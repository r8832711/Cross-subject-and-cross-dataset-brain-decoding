{
 "cells": [
  {
   "cell_type": "code",
   "execution_count": 1,
   "metadata": {},
   "outputs": [],
   "source": [
    "import torch\n",
    "import numpy as np\n",
    "# from sklearn.linear_model import Ridge\n",
    "from himalaya.ridge import Ridge, RidgeCV\n",
    "from himalaya.backend import set_backend\n",
    "from sklearn.model_selection import train_test_split\n",
    "from sklearn.metrics import r2_score\n",
    "from scipy.stats import pearsonr\n",
    "import warnings\n",
    "warnings.filterwarnings('ignore')\n",
    "\n",
    "device = torch.device(\"cpu\")\n",
    "import matplotlib.pyplot as plt"
   ]
  },
  {
   "cell_type": "code",
   "execution_count": null,
   "metadata": {},
   "outputs": [],
   "source": [
    "GOD_train_brain_signals = torch.load('/GOD/subjectwise/train_brain_signals_sub1.pt').to(device)\n",
    "GOD_test_brain_signals = torch.load('/GOD/subjectwise/test_brain_signals_sub1.pt').to(device)\n",
    "\n",
    "\n",
    "GOD_train_image_embds = torch.load('/GOD/train_image_embeddings.pt').to(device)\n",
    "GOD_test_image_embds = torch.load('/GOD/test_image_embeddings.pt').to(device)\n",
    "\n",
    "GOD_train_image_embds = GOD_train_image_embds[:, 1, 0].float()\n",
    "GOD_test_image_embds = GOD_test_image_embds[:, 1, 0].float()\n",
    "\n"
   ]
  },
  {
   "cell_type": "code",
   "execution_count": 41,
   "metadata": {},
   "outputs": [],
   "source": [
    "\n",
    "X_train = GOD_train_image_embds[:1200].numpy()\n",
    "X_test = GOD_test_image_embds[:50].numpy()\n",
    "\n",
    "Y_train= GOD_train_brain_signals.numpy()\n",
    "Y_test = GOD_test_brain_signals.numpy()\n",
    "\n",
    "\n",
    "\n",
    "# X_train = GOD_train_image_embds[1200:2400].numpy()\n",
    "# X_test = GOD_test_image_embds[50:100].numpy()\n",
    "\n",
    "# Y_train= GOD_train_brain_signals[1200:2400].numpy()\n",
    "# Y_test = GOD_test_brain_signals[50:100].numpy()\n",
    "\n",
    "\n",
    "# X_train = GOD_train_image_embds[2400:3600].numpy()\n",
    "# X_test = GOD_test_image_embds[100:150].numpy()\n",
    "\n",
    "# Y_train= GOD_train_brain_signals[2400:3600].numpy()\n",
    "# Y_test = GOD_test_brain_signals[100:150].numpy()\n",
    "\n",
    "\n",
    "# X_train = GOD_train_image_embds[3600:4800].numpy()\n",
    "# X_test = GOD_test_image_embds[150:200].numpy()\n",
    "\n",
    "# Y_train= GOD_train_brain_signals[3600:4800].numpy()\n",
    "# Y_test = GOD_test_brain_signals[150:200].numpy()\n",
    "\n",
    "\n",
    "\n",
    "# X_train = GOD_train_image_embds[4800:].numpy()\n",
    "# X_test = GOD_test_image_embds[200:].numpy()\n",
    "\n",
    "# Y_train= GOD_train_brain_signals[4800:].numpy()\n",
    "# Y_test = GOD_test_brain_signals[200:].numpy()\n",
    "\n"
   ]
  },
  {
   "cell_type": "code",
   "execution_count": 42,
   "metadata": {},
   "outputs": [
    {
     "data": {
      "text/plain": [
       "((1200, 1280), (50, 1280), (1200, 4466), (50, 4466))"
      ]
     },
     "execution_count": 42,
     "metadata": {},
     "output_type": "execute_result"
    }
   ],
   "source": [
    "X_train.shape, X_test.shape, Y_train.shape, Y_test.shape"
   ]
  },
  {
   "cell_type": "code",
   "execution_count": 43,
   "metadata": {},
   "outputs": [
    {
     "name": "stdout",
     "output_type": "stream",
     "text": [
      "R² Score on Test Data: -0.0475\n",
      "Median Voxel-wise Correlation: 0.1102\n"
     ]
    }
   ],
   "source": [
    "set_backend(\"torch_cuda\")\n",
    "\n",
    "ridge = Ridge(alpha=50000.0) \n",
    "ridge.fit(X_train, Y_train)\n",
    "\n",
    "Y_pred = ridge.predict(X_test)\n",
    "\n",
    "\n",
    "r2 = r2_score(Y_test, Y_pred, multioutput='uniform_average')\n",
    "print(f\"R² Score on Test Data: {r2:.4f}\")\n",
    "\n",
    "\n",
    "voxel_correlations = np.array([\n",
    "    pearsonr(Y_test[:, v], Y_pred[:, v])[0] if np.std(Y_test[:, v]) > 0 else 0 for v in range(Y_test.shape[1])])\n",
    "\n",
    "\n",
    "mean_voxel_corr = np.median(voxel_correlations)\n",
    "print(f\"Median Voxel-wise Correlation: {mean_voxel_corr:.4f}\")"
   ]
  },
  {
   "cell_type": "code",
   "execution_count": 103,
   "metadata": {},
   "outputs": [],
   "source": [
    "res  = ((Y_test-Y_pred.numpy())**2).mean(0)"
   ]
  },
  {
   "cell_type": "code",
   "execution_count": 104,
   "metadata": {},
   "outputs": [
    {
     "data": {
      "text/plain": [
       "(array([6331., 6906., 1179.,  528.,  333.,  207.,  117.,   54.,   51.,\n",
       "          18.]),\n",
       " array([0.        , 0.03166157, 0.06332313, 0.0949847 , 0.12664626,\n",
       "        0.15830783, 0.18996939, 0.22163096, 0.25329253, 0.28495409,\n",
       "        0.31661566]),\n",
       " <BarContainer object of 10 artists>)"
      ]
     },
     "execution_count": 104,
     "metadata": {},
     "output_type": "execute_result"
    },
    {
     "data": {
      "image/png": "[encoded data removed]",
      "text/plain": [
       "<Figure size 640x480 with 1 Axes>"
      ]
     },
     "metadata": {},
     "output_type": "display_data"
    }
   ],
   "source": [
    "plt.hist(res)"
   ]
  },
  {
   "cell_type": "code",
   "execution_count": 105,
   "metadata": {},
   "outputs": [
    {
     "data": {
      "text/plain": [
       "(array([  42.,  219., 1029., 4861., 3321., 2994., 1788.,  879.,  441.,\n",
       "         150.]),\n",
       " array([-0.43968391, -0.31260365, -0.18552338, -0.05844312,  0.06863715,\n",
       "         0.19571741,  0.32279768,  0.44987794,  0.57695821,  0.70403847,\n",
       "         0.83111874]),\n",
       " <BarContainer object of 10 artists>)"
      ]
     },
     "execution_count": 105,
     "metadata": {},
     "output_type": "execute_result"
    },
    {
     "data": {
      "image/png": "[encoded data removed]",
      "text/plain": [
       "<Figure size 640x480 with 1 Axes>"
      ]
     },
     "metadata": {},
     "output_type": "display_data"
    }
   ],
   "source": [
    "plt.hist(voxel_correlations)"
   ]
  },
  {
   "cell_type": "code",
   "execution_count": null,
   "metadata": {},
   "outputs": [
    {
     "data": {
      "text/plain": [
       "torch.Size([8859, 1280])"
      ]
     },
     "execution_count": 106,
     "metadata": {},
     "output_type": "execute_result"
    }
   ],
   "source": [
    "aug_image_embds = torch.load(\"/decoding_NSD/data_augmentation/image_embeddings.pt\")\n",
    "aug_image_embds = aug_image_embds[:, 1, 0].float()\n",
    "\n",
    "aug_image_embds.shape"
   ]
  },
  {
   "cell_type": "code",
   "execution_count": 107,
   "metadata": {},
   "outputs": [],
   "source": [
    "subj2_pred = ridge.predict(aug_image_embds)"
   ]
  },
  {
   "cell_type": "code",
   "execution_count": 108,
   "metadata": {},
   "outputs": [
    {
     "data": {
      "text/plain": [
       "torch.Size([8859, 15724])"
      ]
     },
     "execution_count": 108,
     "metadata": {},
     "output_type": "execute_result"
    }
   ],
   "source": [
    "subj2_pred.shape"
   ]
  },
  {
   "cell_type": "code",
   "execution_count": 117,
   "metadata": {},
   "outputs": [
    {
     "name": "stdout",
     "output_type": "stream",
     "text": [
      "0.04606498570997612\n",
      "0.04227290886566597\n"
     ]
    }
   ],
   "source": [
    "from scipy.stats import rv_histogram\n",
    "\n",
    "# Example histogram data (assuming a histogram was computed)\n",
    "hist_data = np.histogram(res, bins=5, density=True)\n",
    "\n",
    "# Create a continuous distribution from the histogram\n",
    "hist_dist = rv_histogram(hist_data)\n",
    "\n",
    "# Sample from the distribution\n",
    "samples = hist_dist.rvs(size=subj2_pred.shape)\n",
    "print(samples.mean())\n",
    "print(samples.std())\n",
    "\n",
    "\n",
    "noise_scale = 1.0\n",
    "\n",
    "\n",
    "subj1_pred_noise = subj2_pred + samples*noise_scale"
   ]
  },
  {
   "cell_type": "code",
   "execution_count": null,
   "metadata": {},
   "outputs": [],
   "source": [
    "torch.save(subj1_pred_noise, \"/GOD/GOD_data_aug/100_percent/subject5.pt\")"
   ]
  },
  {
   "cell_type": "code",
   "execution_count": null,
   "metadata": {},
   "outputs": [],
   "source": [
    "# import torch\n",
    "# import torchvision.transforms as transforms\n",
    "# from torchvision.datasets import ImageFolder\n",
    "# from torch.utils.data import DataLoader, Subset\n",
    "# import random\n",
    "# import os\n",
    "\n",
    "\n",
    "# dataset_path = \"/imageNet/ilsvrc2012/versions/1\"  \n",
    "# transform = transforms.Compose([\n",
    "#     transforms.Resize((224, 224)),  \n",
    "#     transforms.ToTensor(),         \n",
    "#     transforms.Normalize(mean=[0.5, 0.5, 0.5], std=[0.5, 0.5, 0.5]) \n",
    "# ])\n",
    "\n",
    "\n",
    "# dataset = ImageFolder(root=dataset_path, transform=transform)\n",
    "\n",
    "\n",
    "# random_indices = random.sample(range(len(dataset)), 8859)\n",
    "\n",
    "\n",
    "# subset = Subset(dataset, random_indices)\n",
    "\n",
    "\n",
    "# dataloader = DataLoader(subset, batch_size=64, shuffle=False)  # Adjust batch size as needed\n",
    "\n",
    "\n",
    "# image_tensors = []\n",
    "# for images, _ in dataloader:\n",
    "#     image_tensors.append(images)\n",
    "\n",
    "\n",
    "# final_tensor = torch.cat(image_tensors, dim=0)  # Shape: (8859, 3, 224, 224)\n",
    "\n",
    "\n",
    "# torch.save(final_tensor, \"decoding_NSD/data_augmentation/selected_images.pt\")\n",
    "\n"
   ]
  },
  {
   "cell_type": "code",
   "execution_count": null,
   "metadata": {},
   "outputs": [],
   "source": [
    "subj1_aug = torch.load(\"/GOD/GOD_data_aug/100_percent/subject1.pt\")\n",
    "subj2_aug = torch.load(\"/GOD/GOD_data_aug/100_percent/subject2.pt\")\n",
    "subj3_aug = torch.load(\"/GOD/GOD_data_aug/100_percent/subject3.pt\")\n",
    "subj4_aug = torch.load(\"/GOD/GOD_data_aug/100_percent/subject4.pt\")\n",
    "subj5_aug = torch.load(\"/GOD/GOD_data_aug/100_percent/subject5.pt\")\n"
   ]
  },
  {
   "cell_type": "code",
   "execution_count": 242,
   "metadata": {},
   "outputs": [
    {
     "data": {
      "text/plain": [
       "(torch.Size([1200, 15724]),\n",
       " torch.Size([1200, 15724]),\n",
       " torch.Size([1200, 15724]),\n",
       " torch.Size([1200, 15724]),\n",
       " torch.Size([1200, 15724]))"
      ]
     },
     "execution_count": 242,
     "metadata": {},
     "output_type": "execute_result"
    }
   ],
   "source": [
    "subj1 = GOD_train_brain_signals[:1200]\n",
    "subj2 = GOD_train_brain_signals[1200:2400]\n",
    "subj3 = GOD_train_brain_signals[2400:3600]\n",
    "subj4 = GOD_train_brain_signals[3600:4800]\n",
    "subj5 = GOD_train_brain_signals[4800:]\n",
    "\n",
    "subj1.shape, subj2.shape, subj3.shape, subj4.shape, subj5.shape"
   ]
  },
  {
   "cell_type": "code",
   "execution_count": 243,
   "metadata": {},
   "outputs": [
    {
     "data": {
      "text/plain": [
       "(torch.Size([2100, 15724]),\n",
       " torch.Size([2100, 15724]),\n",
       " torch.Size([2100, 15724]),\n",
       " torch.Size([2100, 15724]),\n",
       " torch.Size([2100, 15724]))"
      ]
     },
     "execution_count": 243,
     "metadata": {},
     "output_type": "execute_result"
    }
   ],
   "source": [
    "subject1 = torch.cat((subj1, subj1_aug[:900]), dim=0)\n",
    "subject2 = torch.cat((subj2, subj2_aug[:900]), dim=0)\n",
    "subject3 = torch.cat((subj3, subj3_aug[:900]), dim=0)\n",
    "subject4 = torch.cat((subj4, subj4_aug[:900]), dim=0)\n",
    "subject5 = torch.cat((subj5, subj5_aug[:900]), dim=0)\n",
    "\n",
    "subject1.shape, subject2.shape, subject3.shape, subject4.shape, subject5.shape"
   ]
  },
  {
   "cell_type": "code",
   "execution_count": 244,
   "metadata": {},
   "outputs": [
    {
     "data": {
      "text/plain": [
       "torch.Size([10500, 15724])"
      ]
     },
     "execution_count": 244,
     "metadata": {},
     "output_type": "execute_result"
    }
   ],
   "source": [
    "train_100percent_noise_10 = torch.cat((subject1, subject2, subject3, subject4, subject5), dim=0)\n",
    "train_100percent_noise_10.shape"
   ]
  },
  {
   "cell_type": "code",
   "execution_count": null,
   "metadata": {},
   "outputs": [],
   "source": [
    "torch.save(train_100percent_noise_10, \"/GOD/GOD_data_aug/train_75percent_noise_100.pt\")"
   ]
  },
  {
   "cell_type": "code",
   "execution_count": 221,
   "metadata": {},
   "outputs": [
    {
     "data": {
      "text/plain": [
       "(torch.Size([1200, 2, 1, 1280]),\n",
       " torch.Size([1200, 2, 1, 1280]),\n",
       " torch.Size([1200, 2, 1, 1280]),\n",
       " torch.Size([1200, 2, 1, 1280]),\n",
       " torch.Size([1200, 2, 1, 1280]))"
      ]
     },
     "execution_count": 221,
     "metadata": {},
     "output_type": "execute_result"
    }
   ],
   "source": [
    "subj1_image_embds = GOD_train_image_embds[:1200]\n",
    "subj2_image_embds = GOD_train_image_embds[1200:2400]\n",
    "subj3_image_embds = GOD_train_image_embds[2400:3600]\n",
    "subj4_image_embds= GOD_train_image_embds[3600:4800]\n",
    "subj5_image_embds= GOD_train_image_embds[4800:]\n",
    "\n",
    "subj1_image_embds.shape, subj2_image_embds.shape, subj3_image_embds.shape, subj4_image_embds.shape, subj5_image_embds.shape"
   ]
  },
  {
   "cell_type": "code",
   "execution_count": null,
   "metadata": {},
   "outputs": [],
   "source": [
    "aug_image_embds = torch.load(\"/decoding_NSD/data_augmentation/image_embeddings.pt\").to(device)"
   ]
  },
  {
   "cell_type": "code",
   "execution_count": 223,
   "metadata": {},
   "outputs": [
    {
     "data": {
      "text/plain": [
       "torch.Size([10500, 2, 1, 1280])"
      ]
     },
     "execution_count": 223,
     "metadata": {},
     "output_type": "execute_result"
    }
   ],
   "source": [
    "subj1_image_embds = torch.cat((subj1_image_embds, aug_image_embds[:900]), dim=0)\n",
    "subj2_image_embds = torch.cat((subj2_image_embds, aug_image_embds[:900]), dim=0)\n",
    "subj3_image_embds = torch.cat((subj3_image_embds, aug_image_embds[:900]), dim=0)\n",
    "subj4_image_embds= torch.cat((subj4_image_embds, aug_image_embds[:900]), dim=0)\n",
    "subj5_image_embds= torch.cat((subj5_image_embds, aug_image_embds[:900]), dim=0)\n",
    "\n",
    "train_img_embeds = torch.cat((subj1_image_embds, subj2_image_embds, subj3_image_embds, subj4_image_embds, subj5_image_embds), dim=0)\n",
    "\n",
    "train_img_embeds.shape"
   ]
  },
  {
   "cell_type": "code",
   "execution_count": null,
   "metadata": {},
   "outputs": [],
   "source": [
    "torch.save(train_img_embeds, \"/GOD/GOD_data_aug/train_embds_75percent.pt\")"
   ]
  },
  {
   "cell_type": "code",
   "execution_count": null,
   "metadata": {},
   "outputs": [],
   "source": []
  },
  {
   "cell_type": "code",
   "execution_count": null,
   "metadata": {},
   "outputs": [
    {
     "data": {
      "text/plain": [
       "tensor([12, 12, 12,  ..., 16, 16, 16])"
      ]
     },
     "execution_count": 225,
     "metadata": {},
     "output_type": "execute_result"
    }
   ],
   "source": [
    "\n",
    "subject_ids = []\n",
    "\n",
    "\n",
    "subject_ids.extend([12] * 2100)  \n",
    "subject_ids.extend([13] * 2100)  \n",
    "subject_ids.extend([14] * 2100) \n",
    "subject_ids.extend([15] * 2100) \n",
    "subject_ids.extend([16] * 2100) \n",
    "\n",
    "\n",
    "subject_ids_tensor = torch.tensor(subject_ids)\n",
    "torch.save(subject_ids, \"/GOD/GOD_data_aug/train_ids_75percent.pt\")\n",
    "\n",
    "subject_ids_tensor"
   ]
  }
 ],
 "metadata": {
  "kernelspec": {
   "display_name": "brain-decoding",
   "language": "python",
   "name": "python3"
  },
  "language_info": {
   "codemirror_mode": {
    "name": "ipython",
    "version": 3
   },
   "file_extension": ".py",
   "mimetype": "text/x-python",
   "name": "python",
   "nbconvert_exporter": "python",
   "pygments_lexer": "ipython3",
   "version": "3.12.7"
  }
 },
 "nbformat": 4,
 "nbformat_minor": 2
}
