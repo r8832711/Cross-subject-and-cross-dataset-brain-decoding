{
 "cells": [
  {
   "cell_type": "code",
   "execution_count": 1,
   "metadata": {},
   "outputs": [],
   "source": [
    "import torch\n",
    "import numpy as np\n",
    "# from sklearn.linear_model import Ridge\n",
    "from himalaya.ridge import Ridge, RidgeCV\n",
    "from himalaya.backend import set_backend\n",
    "from sklearn.model_selection import train_test_split\n",
    "from sklearn.metrics import r2_score\n",
    "from scipy.stats import pearsonr\n",
    "import warnings\n",
    "warnings.filterwarnings('ignore')\n",
    "\n",
    "device = torch.device(\"cpu\")\n",
    "import matplotlib.pyplot as plt"
   ]
  },
  {
   "cell_type": "code",
   "execution_count": null,
   "metadata": {},
   "outputs": [],
   "source": [
    "\n",
    "NSD_train_data = np.load(\"/decoding_NSD/data_fmri_nsd/train_data.npy\")\n",
    "NSD_train_data = torch.from_numpy(NSD_train_data).to(device)\n",
    "\n",
    "NSD_test_data = np.load(\"/decoding_NSD/data_fmri_nsd/test_data.npy\")\n",
    "NSD_test_data = torch.from_numpy(NSD_test_data).to(device)\n",
    "\n",
    "NSD_train_img_embeds = torch.load(\"/decoding_NSD/data_fmri_nsd/train_clip_img_embeds.pt\", map_location=device)\n",
    "NSD_test_img_embeds = torch.load(\"/decoding_NSD/data_fmri_nsd/test_clip_img_embeds.pt\", map_location=device)\n",
    "\n",
    "# NSD_train_img_embeds = NSD_train_img_embeds[:, 1, 0].float()\n",
    "# NSD_test_img_embeds = NSD_test_img_embeds[:, 1, 0].float()\n",
    "\n"
   ]
  },
  {
   "cell_type": "code",
   "execution_count": 26,
   "metadata": {},
   "outputs": [],
   "source": [
    "\n",
    "X_train = NSD_train_img_embeds[:8859].numpy()\n",
    "\n",
    "X_test = NSD_test_img_embeds[:982].numpy()\n",
    "\n",
    "Y_train= NSD_train_data[:8859].numpy()\n",
    "Y_test = NSD_test_data[:982].numpy()"
   ]
  },
  {
   "cell_type": "code",
   "execution_count": 27,
   "metadata": {},
   "outputs": [
    {
     "data": {
      "text/plain": [
       "((8859, 2, 1, 1280), (982, 2, 1, 1280), (8859, 15724), (982, 15724))"
      ]
     },
     "execution_count": 27,
     "metadata": {},
     "output_type": "execute_result"
    }
   ],
   "source": [
    "X_train.shape, X_test.shape, Y_train.shape, Y_test.shape"
   ]
  },
  {
   "cell_type": "code",
   "execution_count": null,
   "metadata": {},
   "outputs": [],
   "source": [
    "set_backend(\"torch_cuda\")\n",
    "\n",
    "ridge = Ridge(alpha=50000.0) \n",
    "ridge.fit(X_train, Y_train)\n",
    "\n",
    "Y_pred = ridge.predict(X_test)\n",
    "\n",
    "\n",
    "r2 = r2_score(Y_test, Y_pred, multioutput='uniform_average')\n",
    "print(f\"R² Score on Test Data: {r2:.4f}\")\n",
    "\n",
    "\n",
    "voxel_correlations = np.array([\n",
    "    pearsonr(Y_test[:, v], Y_pred[:, v])[0] if np.std(Y_test[:, v]) > 0 else 0 for v in range(Y_test.shape[1])])\n",
    "\n",
    "\n",
    "mean_voxel_corr = np.median(voxel_correlations)\n",
    "print(f\"Median Voxel-wise Correlation: {mean_voxel_corr:.4f}\")"
   ]
  },
  {
   "cell_type": "code",
   "execution_count": null,
   "metadata": {},
   "outputs": [],
   "source": [
    "res  = ((Y_test-Y_pred.numpy())**2).mean(0)"
   ]
  },
  {
   "cell_type": "code",
   "execution_count": null,
   "metadata": {},
   "outputs": [
    {
     "data": {
      "text/plain": [
       "(array([  56.,  151.,  251.,  509., 1404., 3348., 6441., 3301.,  252.,\n",
       "          11.]),\n",
       " array([0.3030724 , 0.39773792, 0.49240344, 0.58706896, 0.68173448,\n",
       "        0.7764    , 0.87106552, 0.96573104, 1.06039656, 1.15506208,\n",
       "        1.2497276 ]),\n",
       " <BarContainer object of 10 artists>)"
      ]
     },
     "execution_count": 7,
     "metadata": {},
     "output_type": "execute_result"
    },
    {
     "data": {
      "image/png": "[encoded data removed]",
      "text/plain": [
       "<Figure size 640x480 with 1 Axes>"
      ]
     },
     "metadata": {},
     "output_type": "display_data"
    }
   ],
   "source": [
    "plt.hist(res)"
   ]
  },
  {
   "cell_type": "code",
   "execution_count": null,
   "metadata": {},
   "outputs": [
    {
     "data": {
      "text/plain": [
       "(array([ 375., 2171., 2866., 3344., 2964., 2010., 1132.,  465.,  302.,\n",
       "          95.]),\n",
       " array([-0.07180726,  0.01991797,  0.1116432 ,  0.20336842,  0.29509365,\n",
       "         0.38681888,  0.4785441 ,  0.57026933,  0.66199456,  0.75371979,\n",
       "         0.84544501]),\n",
       " <BarContainer object of 10 artists>)"
      ]
     },
     "execution_count": 8,
     "metadata": {},
     "output_type": "execute_result"
    },
    {
     "data": {
      "image/png": "[encoded data removed]",
      "text/plain": [
       "<Figure size 640x480 with 1 Axes>"
      ]
     },
     "metadata": {},
     "output_type": "display_data"
    }
   ],
   "source": [
    "plt.hist(voxel_correlations)"
   ]
  },
  {
   "cell_type": "code",
   "execution_count": null,
   "metadata": {},
   "outputs": [
    {
     "data": {
      "text/plain": [
       "torch.Size([8859, 1280])"
      ]
     },
     "execution_count": 9,
     "metadata": {},
     "output_type": "execute_result"
    }
   ],
   "source": [
    "aug_image_embds = torch.load(\"/decoding_NSD/data_augmentation/image_embeddings.pt\")\n",
    "aug_image_embds = aug_image_embds[:, 1, 0].float()\n",
    "\n",
    "aug_image_embds.shape"
   ]
  },
  {
   "cell_type": "code",
   "execution_count": null,
   "metadata": {},
   "outputs": [],
   "source": [
    "subj2_pred = ridge.predict(aug_image_embds)"
   ]
  },
  {
   "cell_type": "code",
   "execution_count": null,
   "metadata": {},
   "outputs": [
    {
     "data": {
      "text/plain": [
       "torch.Size([8859, 15724])"
      ]
     },
     "execution_count": 11,
     "metadata": {},
     "output_type": "execute_result"
    }
   ],
   "source": [
    "subj2_pred.shape"
   ]
  },
  {
   "cell_type": "code",
   "execution_count": null,
   "metadata": {},
   "outputs": [
    {
     "name": "stdout",
     "output_type": "stream",
     "text": [
      "0.8859185153628758\n",
      "0.13864843202948068\n"
     ]
    }
   ],
   "source": [
    "from scipy.stats import rv_histogram\n",
    "\n",
    "# Example histogram data (assuming a histogram was computed)\n",
    "hist_data = np.histogram(res, bins=5, density=True)\n",
    "\n",
    "# Create a continuous distribution from the histogram\n",
    "hist_dist = rv_histogram(hist_data)\n",
    "\n",
    "# Sample from the distribution\n",
    "samples = hist_dist.rvs(size=subj2_pred.shape)\n",
    "print(samples.mean())\n",
    "print(samples.std())\n",
    "\n",
    "\n",
    "noise_scale = 1.0\n",
    "\n",
    "\n",
    "subj1_pred_noise = subj2_pred + samples*noise_scale"
   ]
  },
  {
   "cell_type": "code",
   "execution_count": null,
   "metadata": {},
   "outputs": [
    {
     "data": {
      "text/plain": [
       "torch.Size([8859, 15724])"
      ]
     },
     "execution_count": 16,
     "metadata": {},
     "output_type": "execute_result"
    }
   ],
   "source": [
    "subj1_pred_noise.shape"
   ]
  },
  {
   "cell_type": "code",
   "execution_count": null,
   "metadata": {},
   "outputs": [],
   "source": [
    "torch.save(subj1_pred_noise, \"/decoding_NSD/data_augmentation/100_percent/subject1.pt\")"
   ]
  },
  {
   "cell_type": "code",
   "execution_count": null,
   "metadata": {},
   "outputs": [],
   "source": [
    "# import torch\n",
    "# import torchvision.transforms as transforms\n",
    "# from torchvision.datasets import ImageFolder\n",
    "# from torch.utils.data import DataLoader, Subset\n",
    "# import random\n",
    "# import os\n",
    "\n",
    "\n",
    "# dataset_path = \"/imageNet/ilsvrc2012/versions/1\"  \n",
    "# transform = transforms.Compose([\n",
    "#     transforms.Resize((224, 224)),  \n",
    "#     transforms.ToTensor(),         \n",
    "#     transforms.Normalize(mean=[0.5, 0.5, 0.5], std=[0.5, 0.5, 0.5]) \n",
    "# ])\n",
    "\n",
    "\n",
    "# dataset = ImageFolder(root=dataset_path, transform=transform)\n",
    "\n",
    "\n",
    "# random_indices = random.sample(range(len(dataset)), 8859)\n",
    "\n",
    "\n",
    "# subset = Subset(dataset, random_indices)\n",
    "\n",
    "\n",
    "# dataloader = DataLoader(subset, batch_size=64, shuffle=False)  # Adjust batch size as needed\n",
    "\n",
    "\n",
    "# image_tensors = []\n",
    "# for images, _ in dataloader:\n",
    "#     image_tensors.append(images)\n",
    "\n",
    "\n",
    "# final_tensor = torch.cat(image_tensors, dim=0)  # Shape: (8859, 3, 224, 224)\n",
    "\n",
    "\n",
    "# torch.save(final_tensor, \"/decoding_NSD/data_augmentation/selected_images.pt\")\n",
    "\n"
   ]
  },
  {
   "cell_type": "code",
   "execution_count": null,
   "metadata": {},
   "outputs": [],
   "source": [
    "subj1_aug = torch.load(\"/decoding_NSD/data_augmentation/100_percent/subject1.pt\")\n",
    "subj5_aug = torch.load(\"/decoding_NSD/data_augmentation/100_percent/subject3.pt\")\n",
    "subj2_aug = torch.load(\"/decoding_NSD/data_augmentation/100_percent/subject2.pt\")\n",
    "subj7_aug = torch.load(\"/decoding_NSD/data_augmentation/100_percent/subject4.pt\")\n"
   ]
  },
  {
   "cell_type": "code",
   "execution_count": 4,
   "metadata": {},
   "outputs": [],
   "source": [
    "subj1 = NSD_train_data[:8859]\n",
    "subj2 = NSD_train_data[8859:17718]\n",
    "subj5 = NSD_train_data[17718:26577]\n",
    "subj7 = NSD_train_data[26577:35436]"
   ]
  },
  {
   "cell_type": "code",
   "execution_count": 30,
   "metadata": {},
   "outputs": [
    {
     "data": {
      "text/plain": [
       "(torch.Size([17718, 15724]),\n",
       " torch.Size([17718, 15724]),\n",
       " torch.Size([17718, 15724]),\n",
       " torch.Size([17718, 15724]))"
      ]
     },
     "execution_count": 30,
     "metadata": {},
     "output_type": "execute_result"
    }
   ],
   "source": [
    "subject1 = torch.cat((subj1, subj1_aug), dim=0)\n",
    "subject2 = torch.cat((subj2, subj2_aug), dim=0)\n",
    "subject5 = torch.cat((subj5, subj5_aug), dim=0)\n",
    "subject7 = torch.cat((subj7, subj7_aug), dim=0)\n",
    "\n",
    "subject1.shape, subject2.shape, subject5.shape, subject7.shape"
   ]
  },
  {
   "cell_type": "code",
   "execution_count": 31,
   "metadata": {},
   "outputs": [],
   "source": [
    "train_25percent_noise_10 = torch.cat((subject1, subject2, subject5, subject7), dim=0)"
   ]
  },
  {
   "cell_type": "code",
   "execution_count": 32,
   "metadata": {},
   "outputs": [
    {
     "data": {
      "text/plain": [
       "torch.Size([70872, 15724])"
      ]
     },
     "execution_count": 32,
     "metadata": {},
     "output_type": "execute_result"
    }
   ],
   "source": [
    "train_25percent_noise_10.shape"
   ]
  },
  {
   "cell_type": "code",
   "execution_count": null,
   "metadata": {},
   "outputs": [],
   "source": [
    "torch.save(train_25percent_noise_10, \"/decoding_NSD/data_augmentation/train_100percent_noise_100.pt\")"
   ]
  },
  {
   "cell_type": "code",
   "execution_count": 9,
   "metadata": {},
   "outputs": [],
   "source": [
    "subj1_image_embds = NSD_train_img_embeds[:8859]\n",
    "subj2_image_embds = NSD_train_img_embeds[8859:17718]\n",
    "subj5_image_embds = NSD_train_img_embeds[17718:26577]\n",
    "subj7_image_embds= NSD_train_img_embeds[26577:35436]"
   ]
  },
  {
   "cell_type": "code",
   "execution_count": null,
   "metadata": {},
   "outputs": [],
   "source": [
    "aug_image_embds = torch.load(\"/decoding_NSD/data_augmentation/image_embeddings.pt\").to(device)"
   ]
  },
  {
   "cell_type": "code",
   "execution_count": 11,
   "metadata": {},
   "outputs": [
    {
     "data": {
      "text/plain": [
       "torch.Size([70872, 2, 1, 1280])"
      ]
     },
     "execution_count": 11,
     "metadata": {},
     "output_type": "execute_result"
    }
   ],
   "source": [
    "subj1_image_embds = torch.cat((subj1_image_embds, aug_image_embds), dim=0)\n",
    "subj2_image_embds = torch.cat((subj2_image_embds, aug_image_embds), dim=0)\n",
    "subj5_image_embds = torch.cat((subj5_image_embds, aug_image_embds), dim=0)\n",
    "subj7_image_embds= torch.cat((subj7_image_embds, aug_image_embds), dim=0)\n",
    "\n",
    "train_img_embeds = torch.cat((subj1_image_embds, subj2_image_embds, subj5_image_embds, subj7_image_embds), dim=0)\n",
    "\n",
    "train_img_embeds.shape"
   ]
  },
  {
   "cell_type": "code",
   "execution_count": null,
   "metadata": {},
   "outputs": [],
   "source": [
    "torch.save(train_img_embeds, \"/decoding_NSD/data_augmentation/train_embds_100percent.pt\")"
   ]
  },
  {
   "cell_type": "code",
   "execution_count": null,
   "metadata": {},
   "outputs": [],
   "source": []
  },
  {
   "cell_type": "code",
   "execution_count": null,
   "metadata": {},
   "outputs": [
    {
     "data": {
      "text/plain": [
       "tensor([1, 1, 1,  ..., 7, 7, 7])"
      ]
     },
     "execution_count": 13,
     "metadata": {},
     "output_type": "execute_result"
    }
   ],
   "source": [
    "\n",
    "subject_ids = []\n",
    "\n",
    "\n",
    "subject_ids.extend([1] * 17718)  \n",
    "subject_ids.extend([2] * 17718)  \n",
    "subject_ids.extend([5] * 17718) \n",
    "subject_ids.extend([7] * 17718) \n",
    "\n",
    "\n",
    "subject_ids_tensor = torch.tensor(subject_ids)\n",
    "torch.save(subject_ids, \"/decoding_NSD/data_augmentation/train_ids_100percent.pt\")\n",
    "\n",
    "subject_ids_tensor"
   ]
  },
  {
   "cell_type": "code",
   "execution_count": null,
   "metadata": {},
   "outputs": [
    {
     "data": {
      "text/plain": [
       "torch.Size([17720])"
      ]
     },
     "execution_count": 18,
     "metadata": {},
     "output_type": "execute_result"
    }
   ],
   "source": [
    "subject_ids_tensor.shape"
   ]
  }
 ],
 "metadata": {
  "kernelspec": {
   "display_name": "base",
   "language": "python",
   "name": "python3"
  },
  "language_info": {
   "codemirror_mode": {
    "name": "ipython",
    "version": 3
   },
   "file_extension": ".py",
   "mimetype": "text/x-python",
   "name": "python",
   "nbconvert_exporter": "python",
   "pygments_lexer": "ipython3",
   "version": "3.12.9"
  }
 },
 "nbformat": 4,
 "nbformat_minor": 2
}
