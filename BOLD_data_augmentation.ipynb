{
 "cells": [
  {
   "cell_type": "code",
   "execution_count": 1,
   "metadata": {},
   "outputs": [],
   "source": [
    "import torch\n",
    "import numpy as np\n",
    "# from sklearn.linear_model import Ridge\n",
    "from himalaya.ridge import Ridge, RidgeCV\n",
    "from himalaya.backend import set_backend\n",
    "from sklearn.model_selection import train_test_split\n",
    "from sklearn.metrics import r2_score\n",
    "from scipy.stats import pearsonr\n",
    "import warnings\n",
    "warnings.filterwarnings('ignore')\n",
    "\n",
    "device = torch.device(\"cpu\")\n",
    "import matplotlib.pyplot as plt"
   ]
  },
  {
   "cell_type": "code",
   "execution_count": null,
   "metadata": {},
   "outputs": [],
   "source": [
    "## Loading BOLD5000 data\n",
    "\n",
    "BOLD_brain_signals_train = torch.load(\"BOLD5000_V2/brain_signals_train.pt\", map_location=device)\n",
    "BOLD_brain_signals_test = torch.load(\"BOLD5000_V2/brain_signals_test.pt\", map_location=device)\n",
    "\n",
    "BOLD_brain_signals_train = torch.from_numpy(BOLD_brain_signals_train).to(device)\n",
    "BOLD_brain_signals_test = torch.from_numpy(BOLD_brain_signals_test).to(device)\n",
    "\n",
    "# Normalizing the BOLD signals\n",
    "\n",
    "# mean = BOLD_brain_signals_train.mean(0)\n",
    "# std = BOLD_brain_signals_train.std(0)\n",
    "# BOLD_brain_signals_train = (BOLD_brain_signals_train - mean) / std\n",
    "# BOLD_brain_signals_test = (BOLD_brain_signals_test - mean) / std\n",
    "\n",
    "# BOLD_brain_signals_train = torch.nan_to_num(BOLD_brain_signals_train)\n",
    "# BOLD_brain_signals_test = torch.nan_to_num(BOLD_brain_signals_test)\n",
    "\n",
    "\n",
    "\n",
    "BOLD_train_img_embeds = torch.load(\"BOLD5000_V2/image_embeddings_train.pt\", map_location=device)\n",
    "BOLD_test_img_embeds = torch.load(\"BOLD5000_V2/image_embeddings_test.pt\", map_location=device)\n",
    "\n",
    "# BOLD_train_img_embeds = BOLD_train_img_embeds[:, 1, 0].float()\n",
    "# BOLD_test_img_embeds = BOLD_test_img_embeds[:, 1, 0].float()\n",
    "\n"
   ]
  },
  {
   "cell_type": "code",
   "execution_count": 3,
   "metadata": {},
   "outputs": [],
   "source": [
    "\n",
    "X_train = BOLD_train_img_embeds[:4803].numpy()\n",
    "\n",
    "X_test = BOLD_test_img_embeds[:113].numpy()\n",
    "\n",
    "Y_train= BOLD_brain_signals_train[:4803].numpy()\n",
    "Y_test = BOLD_brain_signals_test[:113].numpy()\n",
    "\n",
    "\n",
    "\n",
    "# X_train = BOLD_train_img_embeds[4803:9606].numpy()\n",
    "\n",
    "# X_test = BOLD_test_img_embeds[113:226].numpy()\n",
    "\n",
    "# Y_train= BOLD_brain_signals_train[4803:9606].numpy()\n",
    "# Y_test = BOLD_brain_signals_test[113:226].numpy()\n",
    "\n",
    "\n",
    "\n",
    "# X_train = BOLD_train_img_embeds[9606:14409].numpy()\n",
    "\n",
    "# X_test = BOLD_test_img_embeds[226:339].numpy()\n",
    "\n",
    "# Y_train= BOLD_brain_signals_train[9606:14409].numpy()\n",
    "# Y_test = BOLD_brain_signals_test[226:339].numpy()\n",
    "\n",
    "\n",
    "# X_train = BOLD_train_img_embeds[14409:].numpy()\n",
    "\n",
    "# X_test = BOLD_test_img_embeds[339:].numpy()\n",
    "\n",
    "# Y_train= BOLD_brain_signals_train[14409:].numpy()\n",
    "# Y_test = BOLD_brain_signals_test[339:].numpy()"
   ]
  },
  {
   "cell_type": "code",
   "execution_count": 4,
   "metadata": {},
   "outputs": [
    {
     "data": {
      "text/plain": [
       "((4803, 1280), (113, 1280), (4803, 15724), (113, 15724))"
      ]
     },
     "execution_count": 4,
     "metadata": {},
     "output_type": "execute_result"
    }
   ],
   "source": [
    "X_train.shape, X_test.shape, Y_train.shape, Y_test.shape"
   ]
  },
  {
   "cell_type": "code",
   "execution_count": 5,
   "metadata": {},
   "outputs": [
    {
     "name": "stdout",
     "output_type": "stream",
     "text": [
      "R² Score on Test Data: 0.0779\n",
      "Median Voxel-wise Correlation: 0.2023\n"
     ]
    }
   ],
   "source": [
    "set_backend(\"torch_cuda\")\n",
    "\n",
    "ridge = Ridge(alpha=50000.0) \n",
    "ridge.fit(X_train, Y_train)\n",
    "\n",
    "Y_pred = ridge.predict(X_test)\n",
    "\n",
    "\n",
    "r2 = r2_score(Y_test, Y_pred, multioutput='uniform_average')\n",
    "print(f\"R² Score on Test Data: {r2:.4f}\")\n",
    "\n",
    "\n",
    "voxel_correlations = np.array([\n",
    "    pearsonr(Y_test[:, v], Y_pred[:, v])[0] if np.std(Y_test[:, v]) > 0 else 0 for v in range(Y_test.shape[1])])\n",
    "\n",
    "\n",
    "mean_voxel_corr = np.median(voxel_correlations)\n",
    "print(f\"Median Voxel-wise Correlation: {mean_voxel_corr:.4f}\")"
   ]
  },
  {
   "cell_type": "code",
   "execution_count": 7,
   "metadata": {},
   "outputs": [],
   "source": [
    "res  = ((Y_test-Y_pred.numpy())**2).mean(0)"
   ]
  },
  {
   "cell_type": "code",
   "execution_count": 8,
   "metadata": {},
   "outputs": [
    {
     "data": {
      "text/plain": [
       "(array([ 559.,    0.,    0.,   27.,  675., 4194., 6066., 3330.,  774.,\n",
       "          99.]),\n",
       " array([0.        , 0.14779513, 0.29559025, 0.44338539, 0.5911805 ,\n",
       "        0.73897564, 0.88677078, 1.03456593, 1.18236101, 1.33015621,\n",
       "        1.47795129]),\n",
       " <BarContainer object of 10 artists>)"
      ]
     },
     "execution_count": 8,
     "metadata": {},
     "output_type": "execute_result"
    },
    {
     "data": {
      "image/png": "[encoded data removed]",
      "text/plain": [
       "<Figure size 640x480 with 1 Axes>"
      ]
     },
     "metadata": {},
     "output_type": "display_data"
    }
   ],
   "source": [
    "plt.hist(res)"
   ]
  },
  {
   "cell_type": "code",
   "execution_count": 9,
   "metadata": {},
   "outputs": [
    {
     "data": {
      "text/plain": [
       "(array([  54.,  180., 1612., 2169., 3438., 3600., 2772., 1341.,  450.,\n",
       "         108.]),\n",
       " array([-0.24768138, -0.15934568, -0.07100998,  0.01732572,  0.10566142,\n",
       "         0.19399712,  0.28233282,  0.37066852,  0.45900423,  0.54733993,\n",
       "         0.63567563]),\n",
       " <BarContainer object of 10 artists>)"
      ]
     },
     "execution_count": 9,
     "metadata": {},
     "output_type": "execute_result"
    },
    {
     "data": {
      "image/png": "[encoded data removed]",
      "text/plain": [
       "<Figure size 640x480 with 1 Axes>"
      ]
     },
     "metadata": {},
     "output_type": "display_data"
    }
   ],
   "source": [
    "plt.hist(voxel_correlations)"
   ]
  },
  {
   "cell_type": "code",
   "execution_count": null,
   "metadata": {},
   "outputs": [
    {
     "data": {
      "text/plain": [
       "torch.Size([8859, 1280])"
      ]
     },
     "execution_count": 10,
     "metadata": {},
     "output_type": "execute_result"
    }
   ],
   "source": [
    "aug_image_embds = torch.load(\"/decoding_NSD/data_augmentation/image_embeddings.pt\")\n",
    "aug_image_embds = aug_image_embds[:, 1, 0].float()\n",
    "\n",
    "aug_image_embds.shape"
   ]
  },
  {
   "cell_type": "code",
   "execution_count": 11,
   "metadata": {},
   "outputs": [],
   "source": [
    "subj2_pred = ridge.predict(aug_image_embds)"
   ]
  },
  {
   "cell_type": "code",
   "execution_count": 12,
   "metadata": {},
   "outputs": [
    {
     "data": {
      "text/plain": [
       "torch.Size([8859, 15724])"
      ]
     },
     "execution_count": 12,
     "metadata": {},
     "output_type": "execute_result"
    }
   ],
   "source": [
    "subj2_pred.shape"
   ]
  },
  {
   "cell_type": "code",
   "execution_count": 21,
   "metadata": {},
   "outputs": [
    {
     "name": "stdout",
     "output_type": "stream",
     "text": [
      "0.926861116919889\n",
      "0.23696021064045986\n"
     ]
    }
   ],
   "source": [
    "from scipy.stats import rv_histogram\n",
    "\n",
    "# Example histogram data (assuming a histogram was computed)\n",
    "hist_data = np.histogram(res, bins=5, density=True)\n",
    "\n",
    "# Create a continuous distribution from the histogram\n",
    "hist_dist = rv_histogram(hist_data)\n",
    "\n",
    "# Sample from the distribution\n",
    "samples = hist_dist.rvs(size=subj2_pred.shape)\n",
    "print(samples.mean())\n",
    "print(samples.std())\n",
    "\n",
    "\n",
    "noise_scale = 1.0\n",
    "\n",
    "\n",
    "subj1_pred_noise = subj2_pred + samples*noise_scale"
   ]
  },
  {
   "cell_type": "code",
   "execution_count": null,
   "metadata": {},
   "outputs": [],
   "source": [
    "torch.save(subj1_pred_noise, \"/BOLD5000/data_augmentation/100_percent/subject1.pt\")"
   ]
  },
  {
   "cell_type": "code",
   "execution_count": null,
   "metadata": {},
   "outputs": [],
   "source": [
    "# import torch\n",
    "# import torchvision.transforms as transforms\n",
    "# from torchvision.datasets import ImageFolder\n",
    "# from torch.utils.data import DataLoader, Subset\n",
    "# import random\n",
    "# import os\n",
    "\n",
    "\n",
    "# dataset_path = \"/imageNet/ilsvrc2012/versions/1\"  \n",
    "# transform = transforms.Compose([\n",
    "#     transforms.Resize((224, 224)),  \n",
    "#     transforms.ToTensor(),         \n",
    "#     transforms.Normalize(mean=[0.5, 0.5, 0.5], std=[0.5, 0.5, 0.5]) \n",
    "# ])\n",
    "\n",
    "\n",
    "# dataset = ImageFolder(root=dataset_path, transform=transform)\n",
    "\n",
    "\n",
    "# random_indices = random.sample(range(len(dataset)), 8859)\n",
    "\n",
    "\n",
    "# subset = Subset(dataset, random_indices)\n",
    "\n",
    "\n",
    "# dataloader = DataLoader(subset, batch_size=64, shuffle=False)  # Adjust batch size as needed\n",
    "\n",
    "\n",
    "# image_tensors = []\n",
    "# for images, _ in dataloader:\n",
    "#     image_tensors.append(images)\n",
    "\n",
    "\n",
    "# final_tensor = torch.cat(image_tensors, dim=0)  # Shape: (8859, 3, 224, 224)\n",
    "\n",
    "\n",
    "\n",
    "\n"
   ]
  },
  {
   "cell_type": "code",
   "execution_count": null,
   "metadata": {},
   "outputs": [],
   "source": [
    "subj1_aug = torch.load(\"/BOLD5000/data_augmentation/100_percent/subject1.pt\")\n",
    "subj5_aug = torch.load(\"/BOLD5000/data_augmentation/100_percent/subject3.pt\")\n",
    "subj2_aug = torch.load(\"/BOLD5000/data_augmentation/100_percent/subject2.pt\")\n",
    "subj7_aug = torch.load(\"/BOLD5000/data_augmentation/100_percent/subject4.pt\")\n"
   ]
  },
  {
   "cell_type": "code",
   "execution_count": 211,
   "metadata": {},
   "outputs": [
    {
     "data": {
      "text/plain": [
       "(torch.Size([8859, 15724]),\n",
       " torch.Size([8859, 15724]),\n",
       " torch.Size([8859, 15724]),\n",
       " torch.Size([8859, 15724]),\n",
       " torch.Size([4803, 15724]),\n",
       " torch.Size([4803, 15724]),\n",
       " torch.Size([4803, 15724]),\n",
       " torch.Size([2846, 15724]))"
      ]
     },
     "execution_count": 211,
     "metadata": {},
     "output_type": "execute_result"
    }
   ],
   "source": [
    "subj8 = BOLD_brain_signals_train[:4803]\n",
    "subj9 = BOLD_brain_signals_train[4803:9606]\n",
    "subj10 = BOLD_brain_signals_train[9606:14409]\n",
    "subj11 = BOLD_brain_signals_train[14409:17255]\n",
    "\n",
    "subj1_aug.shape, subj5_aug.shape, subj2_aug.shape, subj7_aug.shape, subj8.shape, subj9.shape, subj10.shape, subj11.shape\n"
   ]
  },
  {
   "cell_type": "code",
   "execution_count": 212,
   "metadata": {},
   "outputs": [
    {
     "data": {
      "text/plain": [
       "(torch.Size([9606, 15724]),\n",
       " torch.Size([9606, 15724]),\n",
       " torch.Size([9606, 15724]),\n",
       " torch.Size([5692, 15724]))"
      ]
     },
     "execution_count": 212,
     "metadata": {},
     "output_type": "execute_result"
    }
   ],
   "source": [
    "subject8 = torch.cat((subj8, subj1_aug[:4803]), dim=0)\n",
    "subject9 = torch.cat((subj9, subj2_aug[:4803]), dim=0)\n",
    "subject10 = torch.cat((subj10, subj5_aug[:4803]), dim=0)\n",
    "subject11 = torch.cat((subj11, subj7_aug[:2846]), dim=0)\n",
    "\n",
    "subject8.shape, subject9.shape, subject10.shape, subject11.shape"
   ]
  },
  {
   "cell_type": "code",
   "execution_count": 213,
   "metadata": {},
   "outputs": [],
   "source": [
    "train_100percent_noise_10 = torch.cat((subject8, subject9, subject10, subject11), dim=0)"
   ]
  },
  {
   "cell_type": "code",
   "execution_count": 214,
   "metadata": {},
   "outputs": [
    {
     "data": {
      "text/plain": [
       "torch.Size([34510, 15724])"
      ]
     },
     "execution_count": 214,
     "metadata": {},
     "output_type": "execute_result"
    }
   ],
   "source": [
    "train_100percent_noise_10.shape"
   ]
  },
  {
   "cell_type": "code",
   "execution_count": null,
   "metadata": {},
   "outputs": [],
   "source": [
    "torch.save(train_100percent_noise_10, \"/BOLD5000/data_augmentation/train_100percent_noise_100.pt\")"
   ]
  },
  {
   "cell_type": "code",
   "execution_count": 156,
   "metadata": {},
   "outputs": [
    {
     "data": {
      "text/plain": [
       "(torch.Size([4803, 2, 1, 1280]),\n",
       " torch.Size([4803, 2, 1, 1280]),\n",
       " torch.Size([4803, 2, 1, 1280]),\n",
       " torch.Size([2846, 2, 1, 1280]))"
      ]
     },
     "execution_count": 156,
     "metadata": {},
     "output_type": "execute_result"
    }
   ],
   "source": [
    "subj8_image_embds = BOLD_train_img_embeds[:4803]     \n",
    "subj9_image_embds = BOLD_train_img_embeds[4803:9606] \n",
    "subj10_image_embds = BOLD_train_img_embeds[9606:14409]\n",
    "subj11_image_embds= BOLD_train_img_embeds[14409:17255]\n",
    "\n",
    "subj8_image_embds.shape, subj9_image_embds.shape, subj10_image_embds.shape, subj11_image_embds.shape"
   ]
  },
  {
   "cell_type": "code",
   "execution_count": null,
   "metadata": {},
   "outputs": [],
   "source": [
    "aug_image_embds = torch.load(\"/decoding_NSD/data_augmentation/image_embeddings.pt\").to(device)"
   ]
  },
  {
   "cell_type": "code",
   "execution_count": 158,
   "metadata": {},
   "outputs": [
    {
     "data": {
      "text/plain": [
       "torch.Size([30195, 2, 1, 1280])"
      ]
     },
     "execution_count": 158,
     "metadata": {},
     "output_type": "execute_result"
    }
   ],
   "source": [
    "subj8_image_embds = torch.cat((subj8_image_embds, aug_image_embds[:3602]), dim=0)\n",
    "subj9_image_embds = torch.cat((subj9_image_embds, aug_image_embds[:3602]), dim=0)\n",
    "subj10_image_embds = torch.cat((subj10_image_embds, aug_image_embds[:3602]), dim=0)\n",
    "subj11_image_embds= torch.cat((subj11_image_embds, aug_image_embds[:2134]), dim=0)\n",
    "\n",
    "train_img_embeds = torch.cat((subj8_image_embds, subj9_image_embds, subj10_image_embds, subj11_image_embds), dim=0)\n",
    "\n",
    "train_img_embeds.shape"
   ]
  },
  {
   "cell_type": "code",
   "execution_count": null,
   "metadata": {},
   "outputs": [],
   "source": [
    "torch.save(train_img_embeds, \"/BOLD5000/data_augmentation/train_embds_75percent.pt\")"
   ]
  },
  {
   "cell_type": "code",
   "execution_count": null,
   "metadata": {},
   "outputs": [],
   "source": []
  },
  {
   "cell_type": "code",
   "execution_count": null,
   "metadata": {},
   "outputs": [
    {
     "data": {
      "text/plain": [
       "tensor([ 8,  8,  8,  ..., 11, 11, 11])"
      ]
     },
     "execution_count": 160,
     "metadata": {},
     "output_type": "execute_result"
    }
   ],
   "source": [
    "\n",
    "subject_ids = []\n",
    "\n",
    "\n",
    "subject_ids.extend([8] * 8405)  \n",
    "subject_ids.extend([9] * 8405)  \n",
    "subject_ids.extend([10] * 8405) \n",
    "subject_ids.extend([11] * 4980) \n",
    "\n",
    "\n",
    "subject_ids_tensor = torch.tensor(subject_ids)\n",
    "torch.save(subject_ids, \"/BOLD5000/data_augmentation/train_ids_75percent.pt\")\n",
    "\n",
    "subject_ids_tensor"
   ]
  },
  {
   "cell_type": "code",
   "execution_count": 39,
   "metadata": {},
   "outputs": [
    {
     "data": {
      "text/plain": [
       "torch.Size([34510])"
      ]
     },
     "execution_count": 39,
     "metadata": {},
     "output_type": "execute_result"
    }
   ],
   "source": [
    "subject_ids_tensor.shape"
   ]
  }
 ],
 "metadata": {
  "kernelspec": {
   "display_name": "brain-decoding",
   "language": "python",
   "name": "python3"
  },
  "language_info": {
   "codemirror_mode": {
    "name": "ipython",
    "version": 3
   },
   "file_extension": ".py",
   "mimetype": "text/x-python",
   "name": "python",
   "nbconvert_exporter": "python",
   "pygments_lexer": "ipython3",
   "version": "3.12.7"
  }
 },
 "nbformat": 4,
 "nbformat_minor": 2
}
